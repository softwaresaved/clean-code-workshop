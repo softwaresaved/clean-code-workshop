{
 "cells": [
  {
   "attachments": {},
   "cell_type": "markdown",
   "metadata": {},
   "source": [
    "# sumofpowers\n",
    "\n",
    "## For a single non-negative integer, calculate the sum of powers that, when added together, give the original integer"
   ]
  },
  {
   "cell_type": "code",
   "execution_count": 1,
   "metadata": {
    "collapsed": true
   },
   "outputs": [],
   "source": [
    "# sumofpowers\n",
    "# Author: Neil Chue Hong <N.ChueHong@software.ac.uk>\n",
    "# Version: 1.1\n",
    "# Updated: 7 December 2017\n",
    "# License: BSD-3-Clause (see LICENSE.md)"
   ]
  },
  {
   "cell_type": "code",
   "execution_count": 2,
   "metadata": {},
   "outputs": [],
   "source": [
    "#!/usr/bin/env python\n",
    "import sys\n",
    "from __future__ import print_function\n",
    "from ipywidgets import interact, interactive, fixed, interact_manual\n",
    "import ipywidgets as widgets"
   ]
  },
  {
   "cell_type": "markdown",
   "metadata": {},
   "source": [
    "The following code block defines the main sumofpowers function, where\n",
    "\n",
    "* i is the integer\n",
    "* n is the power"
   ]
  },
  {
   "cell_type": "code",
   "execution_count": 14,
   "metadata": {
    "collapsed": true
   },
   "outputs": [],
   "source": [
    "def sumofpowers(i, n):\n",
    "    \"\"\"Calculate powers of n which sum to i and return list of powers\"\"\"\n",
    "\n",
    "    powers = []\n",
    "    x = 1\n",
    "    \n",
    "    # These assertions checks that the inputs are valid\n",
    "    assert (i >= 0),\"Input is not non-negative\"\n",
    "    assert (isinstance(i, int)),\"Input is not an integer\"\n",
    "    assert (n > 0),\"Powers of n is not positive\"\n",
    "    assert (isinstance(n, int)),\"Powers of n is not an integer\"\n",
    "    \n",
    "    while (i > 0): \n",
    "        if (i % n != 0): \n",
    "            powers.append(x) \n",
    "        x = x * n \n",
    "        i = i // n # We use floor // rather than division / so i remains integer        \n",
    "    return powers"
   ]
  },
  {
   "cell_type": "markdown",
   "metadata": {},
   "source": [
    "The next code block is used to stitch together the powers into a prettier output string"
   ]
  },
  {
   "cell_type": "code",
   "execution_count": 26,
   "metadata": {
    "collapsed": true
   },
   "outputs": [],
   "source": [
    "def printpowers(powers):\n",
    "    \"\"\"Pretty print list of powers\"\"\"\n",
    "    \n",
    "    output_string = ''\n",
    "    total = 0\n",
    "    firstpower = True\n",
    "    \n",
    "    for power in powers:\n",
    "        if firstpower:\n",
    "            output_string = str(power)\n",
    "            firstpower = False\n",
    "        else:            \n",
    "            output_string = output_string + ' + ' + str(power) \n",
    "        total = total + power\n",
    "    \n",
    "    output_string = output_string + ' = ' + str(total)\n",
    "    \n",
    "    print (output_string)\n",
    "    return"
   ]
  },
  {
   "cell_type": "markdown",
   "metadata": {},
   "source": [
    "Finally, this code block enable you to run the function with values of your choosing and view the results. This should be rewritten to use the interactive widget to let you choose the values using a slider."
   ]
  },
  {
   "cell_type": "code",
   "execution_count": 30,
   "metadata": {},
   "outputs": [
    {
     "name": "stdout",
     "output_type": "stream",
     "text": [
      "1\n",
      "2\n",
      "8\n",
      "16\n",
      "1 + 2 + 8 + 16 = 27\n"
     ]
    }
   ],
   "source": [
    "i = 27\n",
    "n = 2\n",
    "\n",
    "printpowers(sumofpowers(i,n))"
   ]
  }
 ],
 "metadata": {
  "kernelspec": {
   "display_name": "Python 3",
   "language": "python",
   "name": "python3"
  },
  "language_info": {
   "codemirror_mode": {
    "name": "ipython",
    "version": 3
   },
   "file_extension": ".py",
   "mimetype": "text/x-python",
   "name": "python",
   "nbconvert_exporter": "python",
   "pygments_lexer": "ipython3",
   "version": "3.5.2"
  }
 },
 "nbformat": 4,
 "nbformat_minor": 2
}
